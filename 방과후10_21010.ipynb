{
  "nbformat": 4,
  "nbformat_minor": 0,
  "metadata": {
    "colab": {
      "name": "방과후10_21010",
      "provenance": [],
      "authorship_tag": "ABX9TyPp8ig1FpbVDRgV6li1/u70",
      "include_colab_link": true
    },
    "kernelspec": {
      "name": "python3",
      "display_name": "Python 3"
    }
  },
  "cells": [
    {
      "cell_type": "markdown",
      "metadata": {
        "id": "view-in-github",
        "colab_type": "text"
      },
      "source": [
        "<a href=\"https://colab.research.google.com/github/202021010/-/blob/master/%EB%B0%A9%EA%B3%BC%ED%9B%8410_21010.ipynb\" target=\"_parent\"><img src=\"https://colab.research.google.com/assets/colab-badge.svg\" alt=\"Open In Colab\"/></a>"
      ]
    },
    {
      "cell_type": "markdown",
      "metadata": {
        "id": "kkfTceCGBVTX",
        "colab_type": "text"
      },
      "source": [
        "# Keras Al"
      ]
    },
    {
      "cell_type": "code",
      "metadata": {
        "id": "TiuCTgWQ9iPb",
        "colab_type": "code",
        "outputId": "1194fb95-a856-4155-995f-33b496cc9c4c",
        "colab": {
          "base_uri": "https://localhost:8080/",
          "height": 34
        }
      },
      "source": [
        "print('Hello Github')"
      ],
      "execution_count": 0,
      "outputs": [
        {
          "output_type": "stream",
          "text": [
            "Hello Github\n"
          ],
          "name": "stdout"
        }
      ]
    }
  ]
}